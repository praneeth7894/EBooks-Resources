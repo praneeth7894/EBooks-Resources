{
 "cells": [
  {
   "cell_type": "code",
   "execution_count": 26,
   "metadata": {},
   "outputs": [],
   "source": [
    "import numpy as np\n",
    "import pandas as pd\n",
    "import matplotlib.pyplot as plt\n",
    "import seaborn as sn\n",
    "import statsmodels.api as sm"
   ]
  },
  {
   "cell_type": "code",
   "execution_count": 27,
   "metadata": {},
   "outputs": [],
   "source": [
    "raw_data= pd.read_csv('Final_raw_data.csv')"
   ]
  },
  {
   "cell_type": "code",
   "execution_count": 28,
   "metadata": {},
   "outputs": [],
   "source": [
    "raw_data=raw_data.fillna(0)"
   ]
  },
  {
   "cell_type": "code",
   "execution_count": 29,
   "metadata": {},
   "outputs": [
    {
     "data": {
      "text/plain": [
       "Index(['email_acq', 'time_bn_wm_and_home', 'time_bn_last_wm_and_home',\n",
       "       'no_items_lt', 'auth_revenue_lt', 'no_divisions_lt', 'auth_qty_lt',\n",
       "       'no_items_lt_edl', 'auth_revenue_lt_edl', 'no_super_depts_lt_edl',\n",
       "       'auth_qty_lt_edl', 'avg_wm_order_gap', 'avg_ent_order_gap',\n",
       "       'avg_enp_order_gap', 'avg_edl_order_gap', 'avg_fashion_order_gap',\n",
       "       'aov_wm', 'ent_aov', 'enp_aov', 'edl_aov', 'fashion_aov',\n",
       "       'first_order_wm_gmv', 'holiday_gmv', 'non_holiday_gmv', 'total_gmv',\n",
       "       'avg_basket_value_delta', 'avg_basket_size_delta', 'no_home_visits',\n",
       "       'no_wm_visits', 'no_home_pdp_visits', 'home_pdp_conversion_rate',\n",
       "       'no_home_page_views', 'no_wm_page_views', 'no_divisions_per_order',\n",
       "       'no_super_depts_per_order', 'no_depts_per_order',\n",
       "       'top_brand_revenue_percent', 'avg_dwell_time', 'hh_adult_qty',\n",
       "       'hh_children_qty', 'wm_pdp_visits', 'avg_basket_value_delta_flag',\n",
       "       'Flag', 'gender_M', 'gender_OTHERS', 'gender_U', 'age_group_GENX',\n",
       "       'age_group_GENZ', 'age_group_MILLENNIALS', 'age_group_OTHERS',\n",
       "       'age_group_SENIORS', 'income_group_LOW', 'income_group_MEDIUM',\n",
       "       'income_group_OTHERS', 'ethnicity_ASIANS', 'ethnicity_CAUCASIANS',\n",
       "       'ethnicity_HISPANICS', 'ethnicity_OTHERS', 'ethnicity_UNKNOWN',\n",
       "       'urbanicity_RURAL', 'urbanicity_SEMI URBAN', 'urbanicity_URBAN'],\n",
       "      dtype='object')"
      ]
     },
     "execution_count": 29,
     "metadata": {},
     "output_type": "execute_result"
    }
   ],
   "source": [
    "raw_data2=pd.get_dummies(raw_data, columns=['gender', 'age_group', 'income_group', 'ethnicity', 'urbanicity'], drop_first=True)\n",
    "raw_data2.columns"
   ]
  },
  {
   "cell_type": "code",
   "execution_count": 30,
   "metadata": {},
   "outputs": [],
   "source": [
    "raw_data2=raw_data2.drop(['email_acq'], axis=1)"
   ]
  },
  {
   "cell_type": "code",
   "execution_count": 31,
   "metadata": {},
   "outputs": [],
   "source": [
    "from sklearn.model_selection import train_test_split\n",
    "x_train, x_test, y_train, y_test= train_test_split(raw_data2.drop(['Flag'], axis=1), raw_data2['Flag'], test_size=0.3, random_state=0)"
   ]
  },
  {
   "cell_type": "markdown",
   "metadata": {},
   "source": [
    "# Logistic Regression"
   ]
  },
  {
   "cell_type": "code",
   "execution_count": 32,
   "metadata": {},
   "outputs": [
    {
     "name": "stderr",
     "output_type": "stream",
     "text": [
      "C:\\ProgramData\\Anaconda3\\lib\\site-packages\\sklearn\\linear_model\\logistic.py:432: FutureWarning: Default solver will be changed to 'lbfgs' in 0.22. Specify a solver to silence this warning.\n",
      "  FutureWarning)\n"
     ]
    }
   ],
   "source": [
    "from sklearn.linear_model import LogisticRegression\n",
    "logistic= LogisticRegression()\n",
    "logistic.fit(x_train, y_train)\n",
    "logistic_prediction= logistic.predict(x_test)"
   ]
  },
  {
   "cell_type": "code",
   "execution_count": 33,
   "metadata": {},
   "outputs": [
    {
     "name": "stdout",
     "output_type": "stream",
     "text": [
      "              precision    recall  f1-score   support\n",
      "\n",
      "           0       0.77      0.99      0.86     85139\n",
      "           1       0.57      0.06      0.10     27208\n",
      "\n",
      "    accuracy                           0.76    112347\n",
      "   macro avg       0.67      0.52      0.48    112347\n",
      "weighted avg       0.72      0.76      0.68    112347\n",
      "\n",
      "Accuracy: 0.7613109384318228\n"
     ]
    },
    {
     "data": {
      "text/plain": [
       "array([[84024,  1115],\n",
       "       [25701,  1507]], dtype=int64)"
      ]
     },
     "execution_count": 33,
     "metadata": {},
     "output_type": "execute_result"
    }
   ],
   "source": [
    "from sklearn.metrics import classification_report\n",
    "from sklearn import metrics\n",
    "print(classification_report(y_test,logistic_prediction))\n",
    "print(\"Accuracy:\",metrics.accuracy_score(y_test, logistic_prediction))\n",
    "metrics.confusion_matrix(y_test, logistic_prediction)"
   ]
  },
  {
   "cell_type": "markdown",
   "metadata": {},
   "source": [
    "# XG BOOST"
   ]
  },
  {
   "cell_type": "code",
   "execution_count": 34,
   "metadata": {},
   "outputs": [
    {
     "data": {
      "text/plain": [
       "XGBClassifier(base_score=0.5, booster=None, colsample_bylevel=1,\n",
       "              colsample_bynode=1, colsample_bytree=1, gamma=0, gpu_id=-1,\n",
       "              importance_type='gain', interaction_constraints=None,\n",
       "              learning_rate=0.300000012, max_delta_step=0, max_depth=6,\n",
       "              min_child_weight=1, missing=nan, monotone_constraints=None,\n",
       "              n_estimators=100, n_jobs=0, num_parallel_tree=1,\n",
       "              objective='binary:logistic', random_state=0, reg_alpha=0,\n",
       "              reg_lambda=1, scale_pos_weight=1, subsample=1, tree_method=None,\n",
       "              validate_parameters=False, verbosity=None)"
      ]
     },
     "execution_count": 34,
     "metadata": {},
     "output_type": "execute_result"
    }
   ],
   "source": [
    "from numpy import loadtxt\n",
    "from xgboost import XGBClassifier\n",
    "# fit model no training data\n",
    "model = XGBClassifier()\n",
    "model.fit(x_train, y_train)"
   ]
  },
  {
   "cell_type": "code",
   "execution_count": 35,
   "metadata": {},
   "outputs": [],
   "source": [
    "# make predictions for test data\n",
    "y_pred = model.predict(x_test)\n",
    "predictions = [round(value) for value in y_pred]"
   ]
  },
  {
   "cell_type": "code",
   "execution_count": 36,
   "metadata": {},
   "outputs": [
    {
     "name": "stdout",
     "output_type": "stream",
     "text": [
      "Accuracy: 76.50%\n"
     ]
    }
   ],
   "source": [
    "# evaluate predictions\n",
    "from sklearn.metrics import accuracy_score\n",
    "accuracy = accuracy_score(y_test, predictions)\n",
    "print(\"Accuracy: %.2f%%\" % (accuracy * 100.0))"
   ]
  },
  {
   "cell_type": "code",
   "execution_count": 37,
   "metadata": {},
   "outputs": [
    {
     "name": "stdout",
     "output_type": "stream",
     "text": [
      "              precision    recall  f1-score   support\n",
      "\n",
      "           0       0.78      0.97      0.86     85139\n",
      "           1       0.57      0.13      0.21     27208\n",
      "\n",
      "    accuracy                           0.76    112347\n",
      "   macro avg       0.67      0.55      0.53    112347\n",
      "weighted avg       0.73      0.76      0.70    112347\n",
      "\n",
      "Accuracy: 0.764951445076415\n"
     ]
    },
    {
     "data": {
      "text/plain": [
       "array([[82534,  2605],\n",
       "       [23802,  3406]], dtype=int64)"
      ]
     },
     "execution_count": 37,
     "metadata": {},
     "output_type": "execute_result"
    }
   ],
   "source": [
    "from sklearn.metrics import classification_report\n",
    "from sklearn import metrics\n",
    "print(classification_report(y_test,predictions))\n",
    "print(\"Accuracy:\",metrics.accuracy_score(y_test, predictions))\n",
    "metrics.confusion_matrix(y_test, predictions)"
   ]
  },
  {
   "cell_type": "code",
   "execution_count": 38,
   "metadata": {},
   "outputs": [],
   "source": [
    "import h2o\n",
    "from h2o.estimators.random_forest import H2ORandomForestEstimator"
   ]
  },
  {
   "cell_type": "code",
   "execution_count": 39,
   "metadata": {},
   "outputs": [],
   "source": [
    "from h2o.automl import H2OAutoML"
   ]
  },
  {
   "cell_type": "code",
   "execution_count": 40,
   "metadata": {},
   "outputs": [
    {
     "name": "stdout",
     "output_type": "stream",
     "text": [
      "Checking whether there is an H2O instance running at http://localhost:54321 . connected.\n"
     ]
    },
    {
     "data": {
      "text/html": [
       "<div style=\"overflow:auto\"><table style=\"width:50%\"><tr><td>H2O cluster uptime:</td>\n",
       "<td>1 day 16 hours 43 mins</td></tr>\n",
       "<tr><td>H2O cluster timezone:</td>\n",
       "<td>Asia/Kolkata</td></tr>\n",
       "<tr><td>H2O data parsing timezone:</td>\n",
       "<td>UTC</td></tr>\n",
       "<tr><td>H2O cluster version:</td>\n",
       "<td>3.28.0.3</td></tr>\n",
       "<tr><td>H2O cluster version age:</td>\n",
       "<td>1 month and 9 days </td></tr>\n",
       "<tr><td>H2O cluster name:</td>\n",
       "<td>H2O_from_python_praneeth_p_umnl3n</td></tr>\n",
       "<tr><td>H2O cluster total nodes:</td>\n",
       "<td>1</td></tr>\n",
       "<tr><td>H2O cluster free memory:</td>\n",
       "<td>830 Mb</td></tr>\n",
       "<tr><td>H2O cluster total cores:</td>\n",
       "<td>8</td></tr>\n",
       "<tr><td>H2O cluster allowed cores:</td>\n",
       "<td>8</td></tr>\n",
       "<tr><td>H2O cluster status:</td>\n",
       "<td>locked, healthy</td></tr>\n",
       "<tr><td>H2O connection url:</td>\n",
       "<td>http://localhost:54321</td></tr>\n",
       "<tr><td>H2O connection proxy:</td>\n",
       "<td>{'http': None, 'https': None}</td></tr>\n",
       "<tr><td>H2O internal security:</td>\n",
       "<td>False</td></tr>\n",
       "<tr><td>H2O API Extensions:</td>\n",
       "<td>Amazon S3, Algos, AutoML, Core V3, TargetEncoder, Core V4</td></tr>\n",
       "<tr><td>Python version:</td>\n",
       "<td>3.7.4 final</td></tr></table></div>"
      ],
      "text/plain": [
       "--------------------------  ---------------------------------------------------------\n",
       "H2O cluster uptime:         1 day 16 hours 43 mins\n",
       "H2O cluster timezone:       Asia/Kolkata\n",
       "H2O data parsing timezone:  UTC\n",
       "H2O cluster version:        3.28.0.3\n",
       "H2O cluster version age:    1 month and 9 days\n",
       "H2O cluster name:           H2O_from_python_praneeth_p_umnl3n\n",
       "H2O cluster total nodes:    1\n",
       "H2O cluster free memory:    830 Mb\n",
       "H2O cluster total cores:    8\n",
       "H2O cluster allowed cores:  8\n",
       "H2O cluster status:         locked, healthy\n",
       "H2O connection url:         http://localhost:54321\n",
       "H2O connection proxy:       {'http': None, 'https': None}\n",
       "H2O internal security:      False\n",
       "H2O API Extensions:         Amazon S3, Algos, AutoML, Core V3, TargetEncoder, Core V4\n",
       "Python version:             3.7.4 final\n",
       "--------------------------  ---------------------------------------------------------"
      ]
     },
     "metadata": {},
     "output_type": "display_data"
    }
   ],
   "source": [
    "h2o.init()"
   ]
  },
  {
   "cell_type": "code",
   "execution_count": 54,
   "metadata": {},
   "outputs": [],
   "source": [
    "from sklearn.model_selection import train_test_split\n",
    "train, test = train_test_split(raw_data2, test_size=0.3, random_state=0)"
   ]
  },
  {
   "cell_type": "code",
   "execution_count": 55,
   "metadata": {},
   "outputs": [],
   "source": [
    "train.to_csv (r'C:\\Users\\praneeth.p\\Documents\\Praneeth\\NoteBooks\\GITHUB\\Tredence\\LTR analysis\\train1.csv', index = False, header=True)\n",
    "test.to_csv (r'C:\\Users\\praneeth.p\\Documents\\Praneeth\\NoteBooks\\GITHUB\\Tredence\\LTR analysis\\test1.csv', index = False, header=True)"
   ]
  },
  {
   "cell_type": "code",
   "execution_count": 56,
   "metadata": {},
   "outputs": [
    {
     "name": "stdout",
     "output_type": "stream",
     "text": [
      "Parse progress: |█████████████████████████████████████████████████████████| 100%\n",
      "Parse progress: |█████████████████████████████████████████████████████████| 100%\n"
     ]
    }
   ],
   "source": [
    "train=h2o.import_file(\"train1.csv\")\n",
    "testh=h2o.import_file(\"test1.csv\")"
   ]
  },
  {
   "cell_type": "code",
   "execution_count": 57,
   "metadata": {},
   "outputs": [],
   "source": [
    "train['Flag']=train['Flag'].asfactor()\n",
    "x=[train.drop([\"Flag\"], axis=1)]"
   ]
  },
  {
   "cell_type": "code",
   "execution_count": 51,
   "metadata": {},
   "outputs": [],
   "source": [
    "aml=H2OAutoML(max_runtime_secs=3600)"
   ]
  },
  {
   "cell_type": "code",
   "execution_count": 60,
   "metadata": {},
   "outputs": [
    {
     "data": {
      "text/html": [
       "<table>\n",
       "<thead>\n",
       "<tr><th style=\"text-align: right;\">  time_bn_wm_and_home</th><th style=\"text-align: right;\">  time_bn_last_wm_and_home</th><th style=\"text-align: right;\">  no_items_lt</th><th style=\"text-align: right;\">  auth_revenue_lt</th><th style=\"text-align: right;\">  no_divisions_lt</th><th style=\"text-align: right;\">  auth_qty_lt</th><th style=\"text-align: right;\">  no_items_lt_edl</th><th style=\"text-align: right;\">  auth_revenue_lt_edl</th><th style=\"text-align: right;\">  no_super_depts_lt_edl</th><th style=\"text-align: right;\">  auth_qty_lt_edl</th><th style=\"text-align: right;\">  avg_wm_order_gap</th><th style=\"text-align: right;\">  avg_ent_order_gap</th><th style=\"text-align: right;\">  avg_enp_order_gap</th><th style=\"text-align: right;\">  avg_edl_order_gap</th><th style=\"text-align: right;\">  avg_fashion_order_gap</th><th style=\"text-align: right;\">  aov_wm</th><th style=\"text-align: right;\">  ent_aov</th><th style=\"text-align: right;\">  enp_aov</th><th style=\"text-align: right;\">  edl_aov</th><th style=\"text-align: right;\">  fashion_aov</th><th style=\"text-align: right;\">  first_order_wm_gmv</th><th style=\"text-align: right;\">  holiday_gmv</th><th style=\"text-align: right;\">  non_holiday_gmv</th><th style=\"text-align: right;\">  total_gmv</th><th style=\"text-align: right;\">  avg_basket_value_delta</th><th style=\"text-align: right;\">  avg_basket_size_delta</th><th style=\"text-align: right;\">  no_home_visits</th><th style=\"text-align: right;\">  no_wm_visits</th><th style=\"text-align: right;\">  no_home_pdp_visits</th><th style=\"text-align: right;\">  home_pdp_conversion_rate</th><th style=\"text-align: right;\">  no_home_page_views</th><th style=\"text-align: right;\">  no_wm_page_views</th><th style=\"text-align: right;\">  no_divisions_per_order</th><th style=\"text-align: right;\">  no_super_depts_per_order</th><th style=\"text-align: right;\">  no_depts_per_order</th><th style=\"text-align: right;\">  top_brand_revenue_percent</th><th style=\"text-align: right;\">  avg_dwell_time</th><th style=\"text-align: right;\">  hh_adult_qty</th><th style=\"text-align: right;\">  hh_children_qty</th><th style=\"text-align: right;\">  wm_pdp_visits</th><th style=\"text-align: right;\">  avg_basket_value_delta_flag</th><th style=\"text-align: right;\">  gender_M</th><th style=\"text-align: right;\">  gender_OTHERS</th><th style=\"text-align: right;\">  gender_U</th><th style=\"text-align: right;\">  age_group_GENX</th><th style=\"text-align: right;\">  age_group_GENZ</th><th style=\"text-align: right;\">  age_group_MILLENNIALS</th><th style=\"text-align: right;\">  age_group_OTHERS</th><th style=\"text-align: right;\">  age_group_SENIORS</th><th style=\"text-align: right;\">  income_group_LOW</th><th style=\"text-align: right;\">  income_group_MEDIUM</th><th style=\"text-align: right;\">  income_group_OTHERS</th><th style=\"text-align: right;\">  ethnicity_ASIANS</th><th style=\"text-align: right;\">  ethnicity_CAUCASIANS</th><th style=\"text-align: right;\">  ethnicity_HISPANICS</th><th style=\"text-align: right;\">  ethnicity_OTHERS</th><th style=\"text-align: right;\">  ethnicity_UNKNOWN</th><th style=\"text-align: right;\">  urbanicity_RURAL</th><th style=\"text-align: right;\">  urbanicity_SEMI URBAN</th><th style=\"text-align: right;\">  urbanicity_URBAN</th></tr>\n",
       "</thead>\n",
       "<tbody>\n",
       "<tr><td style=\"text-align: right;\">              5.9    </td><td style=\"text-align: right;\">                   5.9    </td><td style=\"text-align: right;\">            6</td><td style=\"text-align: right;\">            44.41</td><td style=\"text-align: right;\">                1</td><td style=\"text-align: right;\">            6</td><td style=\"text-align: right;\">                6</td><td style=\"text-align: right;\">                44.41</td><td style=\"text-align: right;\">                      2</td><td style=\"text-align: right;\">                6</td><td style=\"text-align: right;\">          1.23333 </td><td style=\"text-align: right;\">            0      </td><td style=\"text-align: right;\">                  0</td><td style=\"text-align: right;\">            1.23333</td><td style=\"text-align: right;\">                0      </td><td style=\"text-align: right;\"> 40.8125</td><td style=\"text-align: right;\">   0     </td><td style=\"text-align: right;\">   0     </td><td style=\"text-align: right;\">  40.8125</td><td style=\"text-align: right;\">       0     </td><td style=\"text-align: right;\">               44.41</td><td style=\"text-align: right;\">        39.95</td><td style=\"text-align: right;\">           123.3 </td><td style=\"text-align: right;\">     163.25</td><td style=\"text-align: right;\">                 1.48667</td><td style=\"text-align: right;\">                    0  </td><td style=\"text-align: right;\">               1</td><td style=\"text-align: right;\">             2</td><td style=\"text-align: right;\">                   1</td><td style=\"text-align: right;\">                  1       </td><td style=\"text-align: right;\">            11.5    </td><td style=\"text-align: right;\">           67     </td><td style=\"text-align: right;\">                 1      </td><td style=\"text-align: right;\">                   1.75   </td><td style=\"text-align: right;\">             2.75   </td><td style=\"text-align: right;\">                  0        </td><td style=\"text-align: right;\">         630    </td><td style=\"text-align: right;\">             2</td><td style=\"text-align: right;\">                2</td><td style=\"text-align: right;\">              1</td><td style=\"text-align: right;\">                            1</td><td style=\"text-align: right;\">         0</td><td style=\"text-align: right;\">              0</td><td style=\"text-align: right;\">         0</td><td style=\"text-align: right;\">               1</td><td style=\"text-align: right;\">               0</td><td style=\"text-align: right;\">                      0</td><td style=\"text-align: right;\">                 0</td><td style=\"text-align: right;\">                  0</td><td style=\"text-align: right;\">                 0</td><td style=\"text-align: right;\">                    1</td><td style=\"text-align: right;\">                    0</td><td style=\"text-align: right;\">                 0</td><td style=\"text-align: right;\">                     1</td><td style=\"text-align: right;\">                    0</td><td style=\"text-align: right;\">                 0</td><td style=\"text-align: right;\">                  0</td><td style=\"text-align: right;\">                 0</td><td style=\"text-align: right;\">                      0</td><td style=\"text-align: right;\">                 1</td></tr>\n",
       "<tr><td style=\"text-align: right;\">              1.86667</td><td style=\"text-align: right;\">                   1.86667</td><td style=\"text-align: right;\">            1</td><td style=\"text-align: right;\">            57.43</td><td style=\"text-align: right;\">                1</td><td style=\"text-align: right;\">            1</td><td style=\"text-align: right;\">                0</td><td style=\"text-align: right;\">                 0   </td><td style=\"text-align: right;\">                      0</td><td style=\"text-align: right;\">                0</td><td style=\"text-align: right;\">          1.63333 </td><td style=\"text-align: right;\">            0      </td><td style=\"text-align: right;\">                  0</td><td style=\"text-align: right;\">            0      </td><td style=\"text-align: right;\">                0      </td><td style=\"text-align: right;\"> 56.965 </td><td style=\"text-align: right;\">   0     </td><td style=\"text-align: right;\">   0     </td><td style=\"text-align: right;\">   0     </td><td style=\"text-align: right;\">       0     </td><td style=\"text-align: right;\">               57.43</td><td style=\"text-align: right;\">         0   </td><td style=\"text-align: right;\">           227.86</td><td style=\"text-align: right;\">     227.86</td><td style=\"text-align: right;\">                 0.31   </td><td style=\"text-align: right;\">                    0  </td><td style=\"text-align: right;\">               1</td><td style=\"text-align: right;\">             1</td><td style=\"text-align: right;\">                   1</td><td style=\"text-align: right;\">                  0.563322</td><td style=\"text-align: right;\">             1      </td><td style=\"text-align: right;\">            1     </td><td style=\"text-align: right;\">                 1      </td><td style=\"text-align: right;\">                   1      </td><td style=\"text-align: right;\">             1      </td><td style=\"text-align: right;\">                  0        </td><td style=\"text-align: right;\">        2017.89 </td><td style=\"text-align: right;\">             0</td><td style=\"text-align: right;\">                0</td><td style=\"text-align: right;\">              1</td><td style=\"text-align: right;\">                            1</td><td style=\"text-align: right;\">         0</td><td style=\"text-align: right;\">              1</td><td style=\"text-align: right;\">         0</td><td style=\"text-align: right;\">               0</td><td style=\"text-align: right;\">               0</td><td style=\"text-align: right;\">                      0</td><td style=\"text-align: right;\">                 1</td><td style=\"text-align: right;\">                  0</td><td style=\"text-align: right;\">                 0</td><td style=\"text-align: right;\">                    0</td><td style=\"text-align: right;\">                    1</td><td style=\"text-align: right;\">                 0</td><td style=\"text-align: right;\">                     0</td><td style=\"text-align: right;\">                    0</td><td style=\"text-align: right;\">                 1</td><td style=\"text-align: right;\">                  0</td><td style=\"text-align: right;\">                 0</td><td style=\"text-align: right;\">                      0</td><td style=\"text-align: right;\">                 0</td></tr>\n",
       "<tr><td style=\"text-align: right;\">             26.9667 </td><td style=\"text-align: right;\">                   7.83333</td><td style=\"text-align: right;\">            2</td><td style=\"text-align: right;\">            23.98</td><td style=\"text-align: right;\">                1</td><td style=\"text-align: right;\">            2</td><td style=\"text-align: right;\">                0</td><td style=\"text-align: right;\">                 0   </td><td style=\"text-align: right;\">                      0</td><td style=\"text-align: right;\">                0</td><td style=\"text-align: right;\">          0       </td><td style=\"text-align: right;\">            0      </td><td style=\"text-align: right;\">                  0</td><td style=\"text-align: right;\">            0      </td><td style=\"text-align: right;\">                0      </td><td style=\"text-align: right;\"> 23.98  </td><td style=\"text-align: right;\">   0     </td><td style=\"text-align: right;\">   0     </td><td style=\"text-align: right;\">   0     </td><td style=\"text-align: right;\">      23.98  </td><td style=\"text-align: right;\">               73.99</td><td style=\"text-align: right;\">         0   </td><td style=\"text-align: right;\">            23.98</td><td style=\"text-align: right;\">      23.98</td><td style=\"text-align: right;\">                 0      </td><td style=\"text-align: right;\">                    0  </td><td style=\"text-align: right;\">               2</td><td style=\"text-align: right;\">             3</td><td style=\"text-align: right;\">                   2</td><td style=\"text-align: right;\">                  0.5     </td><td style=\"text-align: right;\">             4.66667</td><td style=\"text-align: right;\">           17.6667</td><td style=\"text-align: right;\">                 1      </td><td style=\"text-align: right;\">                   2      </td><td style=\"text-align: right;\">             2      </td><td style=\"text-align: right;\">                  0        </td><td style=\"text-align: right;\">         267.333</td><td style=\"text-align: right;\">             4</td><td style=\"text-align: right;\">                0</td><td style=\"text-align: right;\">              2</td><td style=\"text-align: right;\">                            0</td><td style=\"text-align: right;\">         0</td><td style=\"text-align: right;\">              0</td><td style=\"text-align: right;\">         0</td><td style=\"text-align: right;\">               0</td><td style=\"text-align: right;\">               0</td><td style=\"text-align: right;\">                      0</td><td style=\"text-align: right;\">                 0</td><td style=\"text-align: right;\">                  0</td><td style=\"text-align: right;\">                 0</td><td style=\"text-align: right;\">                    0</td><td style=\"text-align: right;\">                    0</td><td style=\"text-align: right;\">                 0</td><td style=\"text-align: right;\">                     0</td><td style=\"text-align: right;\">                    0</td><td style=\"text-align: right;\">                 0</td><td style=\"text-align: right;\">                  1</td><td style=\"text-align: right;\">                 0</td><td style=\"text-align: right;\">                      0</td><td style=\"text-align: right;\">                 1</td></tr>\n",
       "<tr><td style=\"text-align: right;\">             18.8    </td><td style=\"text-align: right;\">                   2.9    </td><td style=\"text-align: right;\">            3</td><td style=\"text-align: right;\">            50.93</td><td style=\"text-align: right;\">                1</td><td style=\"text-align: right;\">            3</td><td style=\"text-align: right;\">                0</td><td style=\"text-align: right;\">                 0   </td><td style=\"text-align: right;\">                      0</td><td style=\"text-align: right;\">                0</td><td style=\"text-align: right;\">          0       </td><td style=\"text-align: right;\">            0      </td><td style=\"text-align: right;\">                  0</td><td style=\"text-align: right;\">            0      </td><td style=\"text-align: right;\">                0      </td><td style=\"text-align: right;\"> 50.93  </td><td style=\"text-align: right;\">  50.93  </td><td style=\"text-align: right;\">   0     </td><td style=\"text-align: right;\">   0     </td><td style=\"text-align: right;\">       0     </td><td style=\"text-align: right;\">               93.74</td><td style=\"text-align: right;\">        50.93</td><td style=\"text-align: right;\">             0   </td><td style=\"text-align: right;\">      50.93</td><td style=\"text-align: right;\">                 0      </td><td style=\"text-align: right;\">                    0  </td><td style=\"text-align: right;\">               3</td><td style=\"text-align: right;\">             4</td><td style=\"text-align: right;\">                   2</td><td style=\"text-align: right;\">                  0       </td><td style=\"text-align: right;\">            10.75   </td><td style=\"text-align: right;\">          123     </td><td style=\"text-align: right;\">                 1      </td><td style=\"text-align: right;\">                   2      </td><td style=\"text-align: right;\">             3      </td><td style=\"text-align: right;\">                  0        </td><td style=\"text-align: right;\">         852.5  </td><td style=\"text-align: right;\">             2</td><td style=\"text-align: right;\">                1</td><td style=\"text-align: right;\">              3</td><td style=\"text-align: right;\">                            0</td><td style=\"text-align: right;\">         1</td><td style=\"text-align: right;\">              0</td><td style=\"text-align: right;\">         0</td><td style=\"text-align: right;\">               0</td><td style=\"text-align: right;\">               0</td><td style=\"text-align: right;\">                      1</td><td style=\"text-align: right;\">                 0</td><td style=\"text-align: right;\">                  0</td><td style=\"text-align: right;\">                 0</td><td style=\"text-align: right;\">                    0</td><td style=\"text-align: right;\">                    0</td><td style=\"text-align: right;\">                 0</td><td style=\"text-align: right;\">                     1</td><td style=\"text-align: right;\">                    0</td><td style=\"text-align: right;\">                 0</td><td style=\"text-align: right;\">                  0</td><td style=\"text-align: right;\">                 0</td><td style=\"text-align: right;\">                      0</td><td style=\"text-align: right;\">                 1</td></tr>\n",
       "<tr><td style=\"text-align: right;\">              4.33333</td><td style=\"text-align: right;\">                   4.33333</td><td style=\"text-align: right;\">            1</td><td style=\"text-align: right;\">            12.48</td><td style=\"text-align: right;\">                1</td><td style=\"text-align: right;\">            1</td><td style=\"text-align: right;\">                0</td><td style=\"text-align: right;\">                 0   </td><td style=\"text-align: right;\">                      0</td><td style=\"text-align: right;\">                0</td><td style=\"text-align: right;\">          0       </td><td style=\"text-align: right;\">            0      </td><td style=\"text-align: right;\">                  0</td><td style=\"text-align: right;\">            0      </td><td style=\"text-align: right;\">                0      </td><td style=\"text-align: right;\"> 12.48  </td><td style=\"text-align: right;\">  12.48  </td><td style=\"text-align: right;\">   0     </td><td style=\"text-align: right;\">   0     </td><td style=\"text-align: right;\">       0     </td><td style=\"text-align: right;\">               12.48</td><td style=\"text-align: right;\">        12.48</td><td style=\"text-align: right;\">             0   </td><td style=\"text-align: right;\">      12.48</td><td style=\"text-align: right;\">                 0      </td><td style=\"text-align: right;\">                    0  </td><td style=\"text-align: right;\">               1</td><td style=\"text-align: right;\">             1</td><td style=\"text-align: right;\">                   1</td><td style=\"text-align: right;\">                  0.563322</td><td style=\"text-align: right;\">             1      </td><td style=\"text-align: right;\">            1     </td><td style=\"text-align: right;\">                 1      </td><td style=\"text-align: right;\">                   1      </td><td style=\"text-align: right;\">             1      </td><td style=\"text-align: right;\">                  0        </td><td style=\"text-align: right;\">        2017.89 </td><td style=\"text-align: right;\">             2</td><td style=\"text-align: right;\">                0</td><td style=\"text-align: right;\">              1</td><td style=\"text-align: right;\">                            0</td><td style=\"text-align: right;\">         1</td><td style=\"text-align: right;\">              0</td><td style=\"text-align: right;\">         0</td><td style=\"text-align: right;\">               0</td><td style=\"text-align: right;\">               0</td><td style=\"text-align: right;\">                      1</td><td style=\"text-align: right;\">                 0</td><td style=\"text-align: right;\">                  0</td><td style=\"text-align: right;\">                 0</td><td style=\"text-align: right;\">                    1</td><td style=\"text-align: right;\">                    0</td><td style=\"text-align: right;\">                 0</td><td style=\"text-align: right;\">                     1</td><td style=\"text-align: right;\">                    0</td><td style=\"text-align: right;\">                 0</td><td style=\"text-align: right;\">                  0</td><td style=\"text-align: right;\">                 0</td><td style=\"text-align: right;\">                      0</td><td style=\"text-align: right;\">                 1</td></tr>\n",
       "<tr><td style=\"text-align: right;\">             71.4    </td><td style=\"text-align: right;\">                   0.5    </td><td style=\"text-align: right;\">            3</td><td style=\"text-align: right;\">            41.37</td><td style=\"text-align: right;\">                2</td><td style=\"text-align: right;\">            3</td><td style=\"text-align: right;\">                6</td><td style=\"text-align: right;\">                36.41</td><td style=\"text-align: right;\">                      2</td><td style=\"text-align: right;\">                7</td><td style=\"text-align: right;\">          0.366667</td><td style=\"text-align: right;\">            0      </td><td style=\"text-align: right;\">                  0</td><td style=\"text-align: right;\">            0      </td><td style=\"text-align: right;\">                0      </td><td style=\"text-align: right;\"> 38.89  </td><td style=\"text-align: right;\">  21.87  </td><td style=\"text-align: right;\">   0     </td><td style=\"text-align: right;\">  36.41  </td><td style=\"text-align: right;\">      19.5   </td><td style=\"text-align: right;\">                4.47</td><td style=\"text-align: right;\">         0   </td><td style=\"text-align: right;\">            77.78</td><td style=\"text-align: right;\">      77.78</td><td style=\"text-align: right;\">                 0      </td><td style=\"text-align: right;\">                    0  </td><td style=\"text-align: right;\">               1</td><td style=\"text-align: right;\">             3</td><td style=\"text-align: right;\">                   1</td><td style=\"text-align: right;\">                  1       </td><td style=\"text-align: right;\">             5.33333</td><td style=\"text-align: right;\">           52.3333</td><td style=\"text-align: right;\">                 1.5    </td><td style=\"text-align: right;\">                   2      </td><td style=\"text-align: right;\">             2.5    </td><td style=\"text-align: right;\">                  0.0777651</td><td style=\"text-align: right;\">         822.333</td><td style=\"text-align: right;\">             4</td><td style=\"text-align: right;\">                2</td><td style=\"text-align: right;\">              3</td><td style=\"text-align: right;\">                            0</td><td style=\"text-align: right;\">         0</td><td style=\"text-align: right;\">              0</td><td style=\"text-align: right;\">         0</td><td style=\"text-align: right;\">               0</td><td style=\"text-align: right;\">               0</td><td style=\"text-align: right;\">                      1</td><td style=\"text-align: right;\">                 0</td><td style=\"text-align: right;\">                  0</td><td style=\"text-align: right;\">                 0</td><td style=\"text-align: right;\">                    1</td><td style=\"text-align: right;\">                    0</td><td style=\"text-align: right;\">                 1</td><td style=\"text-align: right;\">                     0</td><td style=\"text-align: right;\">                    0</td><td style=\"text-align: right;\">                 0</td><td style=\"text-align: right;\">                  0</td><td style=\"text-align: right;\">                 0</td><td style=\"text-align: right;\">                      1</td><td style=\"text-align: right;\">                 0</td></tr>\n",
       "<tr><td style=\"text-align: right;\">             79.2667 </td><td style=\"text-align: right;\">                   5.46667</td><td style=\"text-align: right;\">            2</td><td style=\"text-align: right;\">            42.9 </td><td style=\"text-align: right;\">                2</td><td style=\"text-align: right;\">            3</td><td style=\"text-align: right;\">                1</td><td style=\"text-align: right;\">                19.98</td><td style=\"text-align: right;\">                      1</td><td style=\"text-align: right;\">                2</td><td style=\"text-align: right;\">          0       </td><td style=\"text-align: right;\">            0      </td><td style=\"text-align: right;\">                  0</td><td style=\"text-align: right;\">            0      </td><td style=\"text-align: right;\">                0      </td><td style=\"text-align: right;\"> 42.9   </td><td style=\"text-align: right;\">   0     </td><td style=\"text-align: right;\">   0     </td><td style=\"text-align: right;\">  19.98  </td><td style=\"text-align: right;\">      22.92  </td><td style=\"text-align: right;\">              219   </td><td style=\"text-align: right;\">         0   </td><td style=\"text-align: right;\">            42.9 </td><td style=\"text-align: right;\">      42.9 </td><td style=\"text-align: right;\">                 0      </td><td style=\"text-align: right;\">                    0  </td><td style=\"text-align: right;\">               3</td><td style=\"text-align: right;\">            10</td><td style=\"text-align: right;\">                   3</td><td style=\"text-align: right;\">                  0.333333</td><td style=\"text-align: right;\">             6.8    </td><td style=\"text-align: right;\">           67.2   </td><td style=\"text-align: right;\">                 2      </td><td style=\"text-align: right;\">                   2      </td><td style=\"text-align: right;\">             2      </td><td style=\"text-align: right;\">                  0.534266 </td><td style=\"text-align: right;\">        1327.2  </td><td style=\"text-align: right;\">             2</td><td style=\"text-align: right;\">                0</td><td style=\"text-align: right;\">              9</td><td style=\"text-align: right;\">                            0</td><td style=\"text-align: right;\">         1</td><td style=\"text-align: right;\">              0</td><td style=\"text-align: right;\">         0</td><td style=\"text-align: right;\">               0</td><td style=\"text-align: right;\">               0</td><td style=\"text-align: right;\">                      1</td><td style=\"text-align: right;\">                 0</td><td style=\"text-align: right;\">                  0</td><td style=\"text-align: right;\">                 1</td><td style=\"text-align: right;\">                    0</td><td style=\"text-align: right;\">                    0</td><td style=\"text-align: right;\">                 0</td><td style=\"text-align: right;\">                     0</td><td style=\"text-align: right;\">                    1</td><td style=\"text-align: right;\">                 0</td><td style=\"text-align: right;\">                  0</td><td style=\"text-align: right;\">                 1</td><td style=\"text-align: right;\">                      0</td><td style=\"text-align: right;\">                 0</td></tr>\n",
       "<tr><td style=\"text-align: right;\">             20.3667 </td><td style=\"text-align: right;\">                   9.16667</td><td style=\"text-align: right;\">            1</td><td style=\"text-align: right;\">            23.5 </td><td style=\"text-align: right;\">                1</td><td style=\"text-align: right;\">            1</td><td style=\"text-align: right;\">                0</td><td style=\"text-align: right;\">                 0   </td><td style=\"text-align: right;\">                      0</td><td style=\"text-align: right;\">                0</td><td style=\"text-align: right;\">          4       </td><td style=\"text-align: right;\">            0      </td><td style=\"text-align: right;\">                  4</td><td style=\"text-align: right;\">            0      </td><td style=\"text-align: right;\">                0      </td><td style=\"text-align: right;\"> 35.2467</td><td style=\"text-align: right;\">  17.97  </td><td style=\"text-align: right;\">  23.2667</td><td style=\"text-align: right;\">   0     </td><td style=\"text-align: right;\">       0     </td><td style=\"text-align: right;\">               99.95</td><td style=\"text-align: right;\">         0   </td><td style=\"text-align: right;\">           105.74</td><td style=\"text-align: right;\">     105.74</td><td style=\"text-align: right;\">                -8.81   </td><td style=\"text-align: right;\">                   -0.5</td><td style=\"text-align: right;\">               3</td><td style=\"text-align: right;\">             4</td><td style=\"text-align: right;\">                   3</td><td style=\"text-align: right;\">                  0.333333</td><td style=\"text-align: right;\">             3.25   </td><td style=\"text-align: right;\">           58.25  </td><td style=\"text-align: right;\">                 1.66667</td><td style=\"text-align: right;\">                   1.66667</td><td style=\"text-align: right;\">             1.66667</td><td style=\"text-align: right;\">                  0        </td><td style=\"text-align: right;\">        2241    </td><td style=\"text-align: right;\">             0</td><td style=\"text-align: right;\">                0</td><td style=\"text-align: right;\">              3</td><td style=\"text-align: right;\">                            0</td><td style=\"text-align: right;\">         0</td><td style=\"text-align: right;\">              1</td><td style=\"text-align: right;\">         0</td><td style=\"text-align: right;\">               0</td><td style=\"text-align: right;\">               0</td><td style=\"text-align: right;\">                      0</td><td style=\"text-align: right;\">                 1</td><td style=\"text-align: right;\">                  0</td><td style=\"text-align: right;\">                 0</td><td style=\"text-align: right;\">                    0</td><td style=\"text-align: right;\">                    1</td><td style=\"text-align: right;\">                 0</td><td style=\"text-align: right;\">                     0</td><td style=\"text-align: right;\">                    0</td><td style=\"text-align: right;\">                 1</td><td style=\"text-align: right;\">                  0</td><td style=\"text-align: right;\">                 0</td><td style=\"text-align: right;\">                      0</td><td style=\"text-align: right;\">                 0</td></tr>\n",
       "<tr><td style=\"text-align: right;\">             28.5333 </td><td style=\"text-align: right;\">                   3.9    </td><td style=\"text-align: right;\">            1</td><td style=\"text-align: right;\">            39.99</td><td style=\"text-align: right;\">                1</td><td style=\"text-align: right;\">            1</td><td style=\"text-align: right;\">                0</td><td style=\"text-align: right;\">                 0   </td><td style=\"text-align: right;\">                      0</td><td style=\"text-align: right;\">                0</td><td style=\"text-align: right;\">          0       </td><td style=\"text-align: right;\">            0      </td><td style=\"text-align: right;\">                  0</td><td style=\"text-align: right;\">            0      </td><td style=\"text-align: right;\">                0      </td><td style=\"text-align: right;\"> 39.99  </td><td style=\"text-align: right;\">  39.99  </td><td style=\"text-align: right;\">   0     </td><td style=\"text-align: right;\">   0     </td><td style=\"text-align: right;\">       0     </td><td style=\"text-align: right;\">               22.47</td><td style=\"text-align: right;\">        39.99</td><td style=\"text-align: right;\">             0   </td><td style=\"text-align: right;\">      39.99</td><td style=\"text-align: right;\">                 0      </td><td style=\"text-align: right;\">                    0  </td><td style=\"text-align: right;\">               3</td><td style=\"text-align: right;\">            10</td><td style=\"text-align: right;\">                   3</td><td style=\"text-align: right;\">                  0.333333</td><td style=\"text-align: right;\">             2.5    </td><td style=\"text-align: right;\">           25.4   </td><td style=\"text-align: right;\">                 1      </td><td style=\"text-align: right;\">                   1      </td><td style=\"text-align: right;\">             1      </td><td style=\"text-align: right;\">                  0        </td><td style=\"text-align: right;\">        1451.1  </td><td style=\"text-align: right;\">             3</td><td style=\"text-align: right;\">                3</td><td style=\"text-align: right;\">              3</td><td style=\"text-align: right;\">                            0</td><td style=\"text-align: right;\">         0</td><td style=\"text-align: right;\">              0</td><td style=\"text-align: right;\">         0</td><td style=\"text-align: right;\">               1</td><td style=\"text-align: right;\">               0</td><td style=\"text-align: right;\">                      0</td><td style=\"text-align: right;\">                 0</td><td style=\"text-align: right;\">                  0</td><td style=\"text-align: right;\">                 0</td><td style=\"text-align: right;\">                    0</td><td style=\"text-align: right;\">                    0</td><td style=\"text-align: right;\">                 0</td><td style=\"text-align: right;\">                     0</td><td style=\"text-align: right;\">                    0</td><td style=\"text-align: right;\">                 0</td><td style=\"text-align: right;\">                  0</td><td style=\"text-align: right;\">                 0</td><td style=\"text-align: right;\">                      0</td><td style=\"text-align: right;\">                 1</td></tr>\n",
       "<tr><td style=\"text-align: right;\">             62.9667 </td><td style=\"text-align: right;\">                  10.5333 </td><td style=\"text-align: right;\">            2</td><td style=\"text-align: right;\">           163.31</td><td style=\"text-align: right;\">                1</td><td style=\"text-align: right;\">            2</td><td style=\"text-align: right;\">                2</td><td style=\"text-align: right;\">               163.31</td><td style=\"text-align: right;\">                      1</td><td style=\"text-align: right;\">                2</td><td style=\"text-align: right;\">         10.3333  </td><td style=\"text-align: right;\">            5.33333</td><td style=\"text-align: right;\">                  0</td><td style=\"text-align: right;\">            2.33333</td><td style=\"text-align: right;\">                4.16667</td><td style=\"text-align: right;\"> 34.5209</td><td style=\"text-align: right;\">  17.3317</td><td style=\"text-align: right;\">   0     </td><td style=\"text-align: right;\"> 100.59  </td><td style=\"text-align: right;\">      24.1867</td><td style=\"text-align: right;\">              168.5 </td><td style=\"text-align: right;\">       155.97</td><td style=\"text-align: right;\">           223.76</td><td style=\"text-align: right;\">     379.73</td><td style=\"text-align: right;\">                14.643  </td><td style=\"text-align: right;\">                    0  </td><td style=\"text-align: right;\">               1</td><td style=\"text-align: right;\">             1</td><td style=\"text-align: right;\">                   1</td><td style=\"text-align: right;\">                  0.563322</td><td style=\"text-align: right;\">             1      </td><td style=\"text-align: right;\">            1     </td><td style=\"text-align: right;\">                 1.09091</td><td style=\"text-align: right;\">                   1.18182</td><td style=\"text-align: right;\">             1.27273</td><td style=\"text-align: right;\">                  0.0866902</td><td style=\"text-align: right;\">        2017.89 </td><td style=\"text-align: right;\">             0</td><td style=\"text-align: right;\">                0</td><td style=\"text-align: right;\">              1</td><td style=\"text-align: right;\">                            1</td><td style=\"text-align: right;\">         0</td><td style=\"text-align: right;\">              1</td><td style=\"text-align: right;\">         0</td><td style=\"text-align: right;\">               0</td><td style=\"text-align: right;\">               0</td><td style=\"text-align: right;\">                      0</td><td style=\"text-align: right;\">                 1</td><td style=\"text-align: right;\">                  0</td><td style=\"text-align: right;\">                 0</td><td style=\"text-align: right;\">                    0</td><td style=\"text-align: right;\">                    1</td><td style=\"text-align: right;\">                 0</td><td style=\"text-align: right;\">                     0</td><td style=\"text-align: right;\">                    0</td><td style=\"text-align: right;\">                 1</td><td style=\"text-align: right;\">                  0</td><td style=\"text-align: right;\">                 0</td><td style=\"text-align: right;\">                      0</td><td style=\"text-align: right;\">                 0</td></tr>\n",
       "</tbody>\n",
       "</table>"
      ]
     },
     "metadata": {},
     "output_type": "display_data"
    },
    {
     "data": {
      "text/plain": [
       "[]"
      ]
     },
     "execution_count": 60,
     "metadata": {},
     "output_type": "execute_result"
    }
   ],
   "source": [
    "x"
   ]
  },
  {
   "cell_type": "code",
   "execution_count": 61,
   "metadata": {
    "scrolled": false
   },
   "outputs": [
    {
     "name": "stdout",
     "output_type": "stream",
     "text": [
      "AutoML progress: |\n",
      "16:29:01.80: AutoML: XGBoost is not available; skipping it.\n",
      "\n",
      "███████Failed polling AutoML progress log: [WinError 32] The process cannot access the file because it is being used by another process: 'C:\\\\Users\\\\praneeth.p\\\\AppData\\\\Local\\\\Temp\\\\tmpsindryp6.csv'\n",
      "███████████████████Failed polling AutoML progress log: [WinError 32] The process cannot access the file because it is being used by another process: 'C:\\\\Users\\\\praneeth.p\\\\AppData\\\\Local\\\\Temp\\\\tmpm0pc_4cb.csv'\n",
      "███Failed polling AutoML progress log: [WinError 32] The process cannot access the file because it is being used by another process: 'C:\\\\Users\\\\praneeth.p\\\\AppData\\\\Local\\\\Temp\\\\tmpib8v1rdq.csv'\n",
      "█████████████████████████Failed polling AutoML progress log: [WinError 32] The process cannot access the file because it is being used by another process: 'C:\\\\Users\\\\praneeth.p\\\\AppData\\\\Local\\\\Temp\\\\tmplje4o1h6.csv'\n",
      "██| 100%\n"
     ]
    }
   ],
   "source": [
    "aml.train(y=\"Flag\", training_frame=train)"
   ]
  },
  {
   "cell_type": "code",
   "execution_count": 62,
   "metadata": {},
   "outputs": [
    {
     "data": {
      "text/html": [
       "<table>\n",
       "<thead>\n",
       "<tr><th>model_id                                           </th><th style=\"text-align: right;\">     auc</th><th style=\"text-align: right;\">  logloss</th><th style=\"text-align: right;\">   aucpr</th><th style=\"text-align: right;\">  mean_per_class_error</th><th style=\"text-align: right;\">    rmse</th><th style=\"text-align: right;\">     mse</th></tr>\n",
       "</thead>\n",
       "<tbody>\n",
       "<tr><td>StackedEnsemble_AllModels_AutoML_20200315_162901   </td><td style=\"text-align: right;\">0.668117</td><td style=\"text-align: right;\"> 0.517104</td><td style=\"text-align: right;\">0.41157 </td><td style=\"text-align: right;\">              0.380936</td><td style=\"text-align: right;\">0.411265</td><td style=\"text-align: right;\">0.169139</td></tr>\n",
       "<tr><td>GBM_2_AutoML_20200315_162901                       </td><td style=\"text-align: right;\">0.666279</td><td style=\"text-align: right;\"> 0.517143</td><td style=\"text-align: right;\">0.408305</td><td style=\"text-align: right;\">              0.383011</td><td style=\"text-align: right;\">0.411369</td><td style=\"text-align: right;\">0.169225</td></tr>\n",
       "<tr><td>StackedEnsemble_BestOfFamily_AutoML_20200315_162901</td><td style=\"text-align: right;\">0.666222</td><td style=\"text-align: right;\"> 0.517855</td><td style=\"text-align: right;\">0.408906</td><td style=\"text-align: right;\">              0.382092</td><td style=\"text-align: right;\">0.411619</td><td style=\"text-align: right;\">0.16943 </td></tr>\n",
       "<tr><td>GBM_1_AutoML_20200315_162901                       </td><td style=\"text-align: right;\">0.66598 </td><td style=\"text-align: right;\"> 0.517219</td><td style=\"text-align: right;\">0.408814</td><td style=\"text-align: right;\">              0.381724</td><td style=\"text-align: right;\">0.411379</td><td style=\"text-align: right;\">0.169233</td></tr>\n",
       "<tr><td>GBM_3_AutoML_20200315_162901                       </td><td style=\"text-align: right;\">0.664851</td><td style=\"text-align: right;\"> 0.517723</td><td style=\"text-align: right;\">0.406662</td><td style=\"text-align: right;\">              0.382129</td><td style=\"text-align: right;\">0.411645</td><td style=\"text-align: right;\">0.169452</td></tr>\n",
       "<tr><td>GBM_grid__1_AutoML_20200315_162901_model_1         </td><td style=\"text-align: right;\">0.664157</td><td style=\"text-align: right;\"> 0.518254</td><td style=\"text-align: right;\">0.406613</td><td style=\"text-align: right;\">              0.38423 </td><td style=\"text-align: right;\">0.411847</td><td style=\"text-align: right;\">0.169618</td></tr>\n",
       "<tr><td>GBM_4_AutoML_20200315_162901                       </td><td style=\"text-align: right;\">0.662028</td><td style=\"text-align: right;\"> 0.519209</td><td style=\"text-align: right;\">0.401785</td><td style=\"text-align: right;\">              0.387176</td><td style=\"text-align: right;\">0.412398</td><td style=\"text-align: right;\">0.170072</td></tr>\n",
       "<tr><td>GBM_5_AutoML_20200315_162901                       </td><td style=\"text-align: right;\">0.661447</td><td style=\"text-align: right;\"> 0.518877</td><td style=\"text-align: right;\">0.404127</td><td style=\"text-align: right;\">              0.386889</td><td style=\"text-align: right;\">0.412148</td><td style=\"text-align: right;\">0.169866</td></tr>\n",
       "<tr><td>GBM_grid__1_AutoML_20200315_162901_model_2         </td><td style=\"text-align: right;\">0.660542</td><td style=\"text-align: right;\"> 0.524064</td><td style=\"text-align: right;\">0.404011</td><td style=\"text-align: right;\">              0.386483</td><td style=\"text-align: right;\">0.414574</td><td style=\"text-align: right;\">0.171872</td></tr>\n",
       "<tr><td>DRF_1_AutoML_20200315_162901                       </td><td style=\"text-align: right;\">0.652443</td><td style=\"text-align: right;\"> 0.522519</td><td style=\"text-align: right;\">0.392094</td><td style=\"text-align: right;\">              0.393475</td><td style=\"text-align: right;\">0.413868</td><td style=\"text-align: right;\">0.171287</td></tr>\n",
       "</tbody>\n",
       "</table>"
      ]
     },
     "metadata": {},
     "output_type": "display_data"
    },
    {
     "data": {
      "text/plain": []
     },
     "execution_count": 62,
     "metadata": {},
     "output_type": "execute_result"
    }
   ],
   "source": [
    "lb = aml.leaderboard\n",
    "lb.head()"
   ]
  },
  {
   "cell_type": "code",
   "execution_count": 63,
   "metadata": {},
   "outputs": [
    {
     "data": {
      "image/png": "[encoded data removed]",
      "text/plain": [
       "<Figure size 1008x720 with 1 Axes>"
      ]
     },
     "metadata": {
      "needs_background": "light"
     },
     "output_type": "display_data"
    }
   ],
   "source": [
    "# Get model ids for all models in the AutoML Leaderboard\n",
    "model_ids = list(aml.leaderboard['model_id'].as_data_frame().iloc[:,0])\n",
    "# Get the \"All Models\" Stacked Ensemble model\n",
    "se = h2o.get_model([mid for mid in model_ids if \"StackedEnsemble_AllModels\" in mid][0])\n",
    "# Get the Stacked Ensemble metalearner model\n",
    "metalearner = h2o.get_model(se.metalearner()['name'])\n",
    "%matplotlib inline\n",
    "metalearner.std_coef_plot()"
   ]
  },
  {
   "cell_type": "code",
   "execution_count": 66,
   "metadata": {},
   "outputs": [
    {
     "name": "stdout",
     "output_type": "stream",
     "text": [
      "stackedensemble prediction progress: |████████████████████████████████████| 100%\n"
     ]
    }
   ],
   "source": [
    "pred=aml.predict(testh)"
   ]
  },
  {
   "cell_type": "code",
   "execution_count": 67,
   "metadata": {},
   "outputs": [
    {
     "data": {
      "text/html": [
       "<table>\n",
       "<thead>\n",
       "<tr><th style=\"text-align: right;\">  predict</th><th style=\"text-align: right;\">      p0</th><th style=\"text-align: right;\">      p1</th></tr>\n",
       "</thead>\n",
       "<tbody>\n",
       "<tr><td style=\"text-align: right;\">        1</td><td style=\"text-align: right;\">0.250885</td><td style=\"text-align: right;\">0.749115</td></tr>\n",
       "<tr><td style=\"text-align: right;\">        1</td><td style=\"text-align: right;\">0.555824</td><td style=\"text-align: right;\">0.444176</td></tr>\n",
       "<tr><td style=\"text-align: right;\">        0</td><td style=\"text-align: right;\">0.862189</td><td style=\"text-align: right;\">0.137811</td></tr>\n",
       "<tr><td style=\"text-align: right;\">        0</td><td style=\"text-align: right;\">0.805707</td><td style=\"text-align: right;\">0.194293</td></tr>\n",
       "<tr><td style=\"text-align: right;\">        0</td><td style=\"text-align: right;\">0.859281</td><td style=\"text-align: right;\">0.140719</td></tr>\n",
       "<tr><td style=\"text-align: right;\">        0</td><td style=\"text-align: right;\">0.82472 </td><td style=\"text-align: right;\">0.17528 </td></tr>\n",
       "<tr><td style=\"text-align: right;\">        1</td><td style=\"text-align: right;\">0.536896</td><td style=\"text-align: right;\">0.463104</td></tr>\n",
       "<tr><td style=\"text-align: right;\">        1</td><td style=\"text-align: right;\">0.781141</td><td style=\"text-align: right;\">0.218859</td></tr>\n",
       "<tr><td style=\"text-align: right;\">        1</td><td style=\"text-align: right;\">0.760583</td><td style=\"text-align: right;\">0.239417</td></tr>\n",
       "<tr><td style=\"text-align: right;\">        1</td><td style=\"text-align: right;\">0.782927</td><td style=\"text-align: right;\">0.217073</td></tr>\n",
       "</tbody>\n",
       "</table>"
      ]
     },
     "metadata": {},
     "output_type": "display_data"
    },
    {
     "data": {
      "text/plain": []
     },
     "execution_count": 67,
     "metadata": {},
     "output_type": "execute_result"
    }
   ],
   "source": [
    "pred"
   ]
  },
  {
   "cell_type": "code",
   "execution_count": null,
   "metadata": {},
   "outputs": [],
   "source": []
  }
 ],
 "metadata": {
  "kernelspec": {
   "display_name": "Python 3",
   "language": "python",
   "name": "python3"
  },
  "language_info": {
   "codemirror_mode": {
    "name": "ipython",
    "version": 3
   },
   "file_extension": ".py",
   "mimetype": "text/x-python",
   "name": "python",
   "nbconvert_exporter": "python",
   "pygments_lexer": "ipython3",
   "version": "3.7.4"
  }
 },
 "nbformat": 4,
 "nbformat_minor": 2
}
